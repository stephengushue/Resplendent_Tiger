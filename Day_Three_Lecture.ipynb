{
 "cells": [
  {
   "cell_type": "markdown",
   "metadata": {},
   "source": [
    "### Lecture 3 Strings\n",
    "\n",
    "functions are actions you can call onto data types\n",
    "\n",
    "ranges with indexes, first number is **inclusive** second number is **exclusive**\n",
    "python implements and index scheme that <br>\n",
    "[start:stop:step]\n",
    "\n",
    "**What is a method versus a function**\n",
    "\n",
    "\n",
    "#### String Formatting\n",
    "\n",
    "instead of using %s \n",
    "\n",
    "**use this**\n",
    "my_name = 'Steve'\n",
    "\n",
    "print('Hello {}.format(my_name)\n",
    "\n",
    "#### iteration and enumerating\n",
    "\n",
    "\n"
   ]
  },
  {
   "cell_type": "code",
   "execution_count": 8,
   "metadata": {},
   "outputs": [
    {
     "name": "stdout",
     "output_type": "stream",
     "text": [
      "Htllo, Sttphtn Gushut\n",
      "['Hello', ' Stephen Gushue']\n"
     ]
    }
   ],
   "source": [
    "my_name = \"Stephen Gushue\"\n",
    "response = \"Hello, \" + my_name\n",
    "new_response = response.replace('e','t')\n",
    "print (new_response)\n",
    "split = response.split(',')\n",
    "print(split)"
   ]
  },
  {
   "cell_type": "code",
   "execution_count": 9,
   "metadata": {},
   "outputs": [
    {
     "data": {
      "text/plain": [
       "list"
      ]
     },
     "execution_count": 9,
     "metadata": {},
     "output_type": "execute_result"
    }
   ],
   "source": [
    "type(split)"
   ]
  },
  {
   "cell_type": "code",
   "execution_count": 2,
   "metadata": {},
   "outputs": [
    {
     "name": "stdout",
     "output_type": "stream",
     "text": [
      "h\n",
      "e\n",
      "l\n",
      "l\n",
      "o\n"
     ]
    }
   ],
   "source": [
    "my_str, idx ='hello', 0\n",
    "while idx < 5:\n",
    "    print(my_str[idx])\n",
    "    idx +=1"
   ]
  },
  {
   "cell_type": "code",
   "execution_count": 13,
   "metadata": {},
   "outputs": [
    {
     "name": "stdout",
     "output_type": "stream",
     "text": [
      "Hello Stephen Gushue\n"
     ]
    }
   ],
   "source": [
    "print('Hello {}'.format(my_name))"
   ]
  },
  {
   "cell_type": "code",
   "execution_count": null,
   "metadata": {},
   "outputs": [],
   "source": []
  }
 ],
 "metadata": {
  "kernelspec": {
   "display_name": "Python 3",
   "language": "python",
   "name": "python3"
  },
  "language_info": {
   "codemirror_mode": {
    "name": "ipython",
    "version": 3
   },
   "file_extension": ".py",
   "mimetype": "text/x-python",
   "name": "python",
   "nbconvert_exporter": "python",
   "pygments_lexer": "ipython3",
   "version": "3.6.4"
  }
 },
 "nbformat": 4,
 "nbformat_minor": 2
}
